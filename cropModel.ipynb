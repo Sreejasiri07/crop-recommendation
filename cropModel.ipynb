{
  "cells": [
    {
      "cell_type": "code",
      "execution_count": null,
      "metadata": {
        "id": "dnTsMGqX9Q3R"
      },
      "outputs": [],
      "source": [
        "import pandas as pd\n",
        "import numpy as np\n",
        "import random\n",
        "\n",
        "import matplotlib.pyplot as plt\n",
        "import seaborn as sns\n",
        "\n",
        "import plotly.graph_objects as go\n",
        "import plotly.express as px\n",
        "from plotly.subplots import make_subplots\n",
        "\n",
        "from sklearn.model_selection import train_test_split\n",
        "from sklearn.metrics import accuracy_score, confusion_matrix, classification_report\n",
        "import lightgbm as lgb"
      ]
    },
    {
      "cell_type": "code",
      "execution_count": null,
      "metadata": {
        "id": "MS_rbovm7ozI"
      },
      "outputs": [],
      "source": [
        "# Define color array for plotting\n",
        "colorarr = ['#0592D0','#Cd7f32', '#E97451', '#Bdb76b', '#954535', '#C2b280', '#808000','#C2b280', '#E4d008', '#9acd32', '#Eedc82', '#E4d96f',\n",
        "           '#32cd32','#39ff14','#00ff7f', '#008080', '#36454f', '#F88379', '#Ff4500', '#Ffb347', '#A94064', '#E75480', '#Ffb6c1', '#E5e4e2',\n",
        "           '#Faf0e6', '#8c92ac', '#Dbd7d2','#A7a6ba', '#B38b6d']"
      ]
    },
    {
      "cell_type": "code",
      "execution_count": null,
      "metadata": {
        "id": "NLZ0GtiB9XmS"
      },
      "outputs": [],
      "source": [
        "# Load dataset\n",
        "cropdf = pd.read_csv('/content/drive/MyDrive/Crop_recommendation.csv')"
      ]
    },
    {
      "cell_type": "code",
      "execution_count": null,
      "metadata": {
        "id": "lVBi8HfKGzqa"
      },
      "outputs": [],
      "source": [
        "from google.colab import drive\n",
        "drive.mount('/content/drive')"
      ]
    },
    {
      "cell_type": "code",
      "execution_count": null,
      "metadata": {
        "colab": {
          "background_save": true
        },
        "id": "iRe6XK_o9aKa"
      },
      "outputs": [],
      "source": [
        "# Declare independent and target variables\n",
        "X = cropdf.drop('label', axis=1)\n",
        "y = cropdf['label']"
      ]
    },
    {
      "cell_type": "code",
      "execution_count": null,
      "metadata": {
        "colab": {
          "background_save": true
        },
        "id": "TIVCIsi-9a4n"
      },
      "outputs": [],
      "source": [
        "# Split dataset into training and test set\n",
        "X_train, X_test, y_train, y_test = train_test_split(X, y, test_size=0.3, shuffle=True, random_state=0)"
      ]
    },
    {
      "cell_type": "code",
      "execution_count": null,
      "metadata": {
        "id": "3pgxvp2T9a1G"
      },
      "outputs": [],
      "source": [
        "# Train LightGBM model\n",
        "model = lgb.LGBMClassifier()\n",
        "model.fit(X_train, y_train)\n"
      ]
    },
    {
      "cell_type": "code",
      "execution_count": null,
      "metadata": {
        "id": "JxW_ZUMz9nRy"
      },
      "outputs": [],
      "source": [
        "# Predict on test set\n",
        "y_pred = model.predict(X_test)"
      ]
    },
    {
      "cell_type": "code",
      "execution_count": null,
      "metadata": {
        "id": "4KVowBmA9naV"
      },
      "outputs": [],
      "source": [
        "# Calculate accuracy\n",
        "accuracy = accuracy_score(y_test, y_pred)\n",
        "print('LightGBM Model accuracy score: {0:0.4f}'.format(accuracy))"
      ]
    },
    {
      "cell_type": "code",
      "execution_count": null,
      "metadata": {
        "id": "VA5fk1-z9neC"
      },
      "outputs": [],
      "source": [
        "# Training set accuracy\n",
        "y_pred_train = model.predict(X_train)\n",
        "train_accuracy = accuracy_score(y_train, y_pred_train)\n",
        "print('Training-set accuracy score: {0:0.4f}'.format(train_accuracy))"
      ]
    },
    {
      "cell_type": "code",
      "execution_count": null,
      "metadata": {
        "id": "AS_BgSu09njG"
      },
      "outputs": [],
      "source": [
        "# Print scores on training and test set\n",
        "print('Training set score: {:.4f}'.format(model.score(X_train, y_train)))\n",
        "print('Test set score: {:.4f}'.format(model.score(X_test, y_test)))"
      ]
    },
    {
      "cell_type": "code",
      "execution_count": null,
      "metadata": {
        "id": "y-iQ-ej49nmf"
      },
      "outputs": [],
      "source": [
        "# View confusion matrix\n",
        "cm = confusion_matrix(y_test, y_pred)\n",
        "plt.figure(figsize=(10, 8))\n",
        "sns.heatmap(cm, annot=True, fmt=\".0f\", linewidths=.5, square=True, cmap='Blues')\n",
        "plt.ylabel('Actual label')\n",
        "plt.xlabel('Predicted label')\n",
        "plt.title('Confusion Matrix - Accuracy: {:.4f}'.format(accuracy))\n",
        "plt.show()"
      ]
    },
    {
      "cell_type": "code",
      "execution_count": null,
      "metadata": {
        "id": "HlQsqgsQ9npj"
      },
      "outputs": [],
      "source": [
        "# View classification report\n",
        "print(classification_report(y_test, y_pred))\n"
      ]
    },
    {
      "cell_type": "code",
      "execution_count": null,
      "metadata": {
        "id": "LOI46yT39nsy"
      },
      "outputs": [],
      "source": [
        "# Example prediction\n",
        "# new_data = [[98,35,18,23.79746068,74.82913698,6.252797547999999,91.76337172]]\n",
        "# predicted_crop = model.predict(new_data)\n",
        "# print('Predicted crop for new data:', predicted_crop)\n",
        "import joblib"
      ]
    },
    {
      "cell_type": "code",
      "execution_count": null,
      "metadata": {
        "collapsed": true,
        "id": "-UnJjRMh91eq"
      },
      "outputs": [],
      "source": [
        "# Train your model as you did before\n",
        "model.fit(X_train, y_train)"
      ]
    },
    {
      "cell_type": "code",
      "execution_count": null,
      "metadata": {
        "id": "SmT453ra95wM"
      },
      "outputs": [],
      "source": [
        "# Save the model\n",
        "joblib.dump(model, '/content/drive/MyDrive/lgbm_model.pkl')"
      ]
    },
    {
      "cell_type": "code",
      "execution_count": null,
      "metadata": {
        "id": "opemuUGqFPxm"
      },
      "outputs": [],
      "source": [
        "# Example prediction\n",
        "new_data = [[30,39,18,23.79746068,74.82913698,6.252797547999999,91.76337172]]\n",
        "predicted_crop = model.predict(new_data)\n",
        "print('Predicted crop for new data:', predicted_crop)"
      ]
    },
    {
      "cell_type": "code",
      "execution_count": null,
      "metadata": {
        "id": "_w9BKv8-FWaG"
      },
      "outputs": [],
      "source": []
    }
  ],
  "metadata": {
    "colab": {
      "provenance": []
    },
    "kernelspec": {
      "display_name": "Python 3",
      "name": "python3"
    },
    "language_info": {
      "name": "python"
    }
  },
  "nbformat": 4,
  "nbformat_minor": 0
}